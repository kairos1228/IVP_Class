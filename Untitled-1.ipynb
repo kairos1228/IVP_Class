{
 "cells": [
  {
   "cell_type": "markdown",
   "metadata": {},
   "source": [
    "# Import Required Libraries\n",
    "Import libraries such as PIL (Python Imaging Library) for image creation and manipulation."
   ]
  },
  {
   "cell_type": "code",
   "execution_count": 1,
   "metadata": {},
   "outputs": [],
   "source": [
    "from PIL import Image, ImageDraw, ImageFont  # Importing PIL for image creation and manipulation"
   ]
  },
  {
   "cell_type": "markdown",
   "metadata": {},
   "source": [
    "# Define Text Content\n",
    "Store the provided text content in a variable for use in the image generation process."
   ]
  },
  {
   "cell_type": "code",
   "execution_count": 2,
   "metadata": {},
   "outputs": [],
   "source": [
    "# Define the text content in a variable\n",
    "text_content = \"\"\"\n",
    "강의 개요\n",
    "디지털영상신호처리에 대한 기초이론을 이해하고 이를 확장하여 인공지능에 활용할 수 있는 지능형 영상처리 응용분야를 학습한다. 이를 바탕으로 개별적인 실습/토론/과제를 통해서 영상 데이터 분석을 기반으로 응용가능한 실무 프로젝트를 진행한다.\n",
    "\n",
    "<교과목 목표>\n",
    "디지털영상신호처리의 특성을 이해고 실제 인공지능 응용분야의 다양한 기술에 적용하기 위한 기초 기술들을 습득한다. 이를 바탕으로 개별적인 실습/토론/과제를 통해 영상 데이터 분석 기술에 대한이해를 높이고 실무 프로젝트를 통해서 실무 현장에서 수행되는 과업들을 간접경험해본다.\n",
    "\"\"\""
   ]
  },
  {
   "cell_type": "markdown",
   "metadata": {},
   "source": [
    "# Generate Image with Text\n",
    "Use PIL to create an image with a wide aspect ratio and render the text content onto the image."
   ]
  },
  {
   "cell_type": "code",
   "execution_count": null,
   "metadata": {},
   "outputs": [],
   "source": [
    "from PIL import Image, ImageDraw, ImageFont\n",
    "\n",
    "# Create a wide image with a white background\n",
    "image_width = 1200\n",
    "image_height = 400\n",
    "background_color = \"white\"\n",
    "image = Image.new(\"RGB\", (image_width, image_height), background_color)\n",
    "\n",
    "# Initialize ImageDraw\n",
    "draw = ImageDraw.Draw(image)\n",
    "\n",
    "# Define font and text properties\n",
    "font_size = 20\n",
    "try:\n",
    "    font = ImageFont.truetype(\"arial.ttf\", font_size)  # Use Arial font\n",
    "except IOError:\n",
    "    font = ImageFont.load_default()  # Fallback to default font if Arial is not available\n",
    "\n",
    "text_color = \"black\"\n",
    "padding = 20\n",
    "\n",
    "# Calculate text position to center it\n",
    "text_width, text_height = draw.multiline_textsize(text_content, font=font)\n",
    "text_x = padding\n",
    "text_y = (image_height - text_height) // 2\n",
    "\n",
    "# Draw the text onto the image\n",
    "draw.multiline_text((text_x, text_y), text_content, fill=text_color, font=font, align=\"left\")\n",
    "\n",
    "# Save the image to a file\n",
    "output_file = \"lecture_overview.png\"\n",
    "image.save(output_file)\n",
    "\n",
    "# Display the image in the notebook (optional)\n",
    "image.show()"
   ]
  },
  {
   "cell_type": "markdown",
   "metadata": {},
   "source": [
    "# Save and Display the Image\n",
    "Save the generated image to a file and display it within the notebook for verification."
   ]
  },
  {
   "cell_type": "code",
   "execution_count": null,
   "metadata": {},
   "outputs": [],
   "source": [
    "from IPython.display import Image as IPImage, display\n",
    "\n",
    "# Save the generated image to a file (already done in the previous code)\n",
    "output_file = \"lecture_overview.png\"\n",
    "\n",
    "# Display the saved image within the notebook for verification\n",
    "display(IPImage(output_file))"
   ]
  }
 ],
 "metadata": {
  "kernelspec": {
   "display_name": "Python 3",
   "language": "python",
   "name": "python3"
  },
  "language_info": {
   "codemirror_mode": {
    "name": "ipython",
    "version": 3
   },
   "file_extension": ".py",
   "mimetype": "text/x-python",
   "name": "python",
   "nbconvert_exporter": "python",
   "pygments_lexer": "ipython3",
   "version": "3.12.1"
  }
 },
 "nbformat": 4,
 "nbformat_minor": 2
}
